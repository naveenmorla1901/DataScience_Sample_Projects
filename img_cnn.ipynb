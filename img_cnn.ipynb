{
  "nbformat": 4,
  "nbformat_minor": 0,
  "metadata": {
    "colab": {
      "name": "img cnn.ipynb",
      "provenance": [],
      "collapsed_sections": [],
      "authorship_tag": "ABX9TyN5+obZZ0/pC/HqfYj9REqW",
      "include_colab_link": true
    },
    "kernelspec": {
      "name": "python3",
      "display_name": "Python 3"
    },
    "accelerator": "GPU"
  },
  "cells": [
    {
      "cell_type": "markdown",
      "metadata": {
        "id": "view-in-github",
        "colab_type": "text"
      },
      "source": [
        "<a href=\"https://colab.research.google.com/github/naveenmorla1901/dsprojects/blob/naveenmorla1901-patch-1/img_cnn.ipynb\" target=\"_parent\"><img src=\"https://colab.research.google.com/assets/colab-badge.svg\" alt=\"Open In Colab\"/></a>"
      ]
    },
    {
      "cell_type": "code",
      "metadata": {
        "id": "4bQXnTcvfUPJ",
        "colab_type": "code",
        "colab": {}
      },
      "source": [
        "import keras\n",
        "from keras.datasets import cifar10\n",
        "from keras.models import Sequential\n",
        "from keras.layers import Dense, Dropout, Flatten, Conv2D, MaxPooling2D\n",
        "from pathlib import Path\n",
        "import image"
      ],
      "execution_count": 0,
      "outputs": []
    },
    {
      "cell_type": "code",
      "metadata": {
        "id": "x7SPeBAifYay",
        "colab_type": "code",
        "colab": {}
      },
      "source": [
        "(x_train, y_train), (x_test, y_test) = cifar10.load_data()"
      ],
      "execution_count": 0,
      "outputs": []
    },
    {
      "cell_type": "code",
      "metadata": {
        "id": "0kaWfv5Jfhqa",
        "colab_type": "code",
        "outputId": "b965cdac-4e57-4910-fc5a-3375e43b7d7f",
        "colab": {
          "base_uri": "https://localhost:8080/",
          "height": 134
        }
      },
      "source": [
        "y_train"
      ],
      "execution_count": 0,
      "outputs": [
        {
          "output_type": "execute_result",
          "data": {
            "text/plain": [
              "array([[6],\n",
              "       [9],\n",
              "       [9],\n",
              "       ...,\n",
              "       [9],\n",
              "       [1],\n",
              "       [1]], dtype=uint8)"
            ]
          },
          "metadata": {
            "tags": []
          },
          "execution_count": 10
        }
      ]
    },
    {
      "cell_type": "code",
      "metadata": {
        "id": "Q_5Op7yErYgx",
        "colab_type": "code",
        "outputId": "7ad96fbf-9170-44b5-b879-c3998296de79",
        "colab": {
          "base_uri": "https://localhost:8080/",
          "height": 34
        }
      },
      "source": [
        "y_train.shape"
      ],
      "execution_count": 0,
      "outputs": [
        {
          "output_type": "execute_result",
          "data": {
            "text/plain": [
              "(50000, 1)"
            ]
          },
          "metadata": {
            "tags": []
          },
          "execution_count": 11
        }
      ]
    },
    {
      "cell_type": "code",
      "metadata": {
        "id": "yIn-wX77fmjB",
        "colab_type": "code",
        "colab": {}
      },
      "source": [
        "import matplotlib.pyplot as plt\n",
        "# List of names for each CIFAR10 class\n",
        "cifar10_class_names = {\n",
        "    0: \"Plane\",\n",
        "    1: \"Car\",\n",
        "    2: \"Bird\",\n",
        "    3: \"Cat\",\n",
        "    4: \"Deer\",\n",
        "    5: \"Dog\",\n",
        "    6: \"Frog\",\n",
        "    7: \"Horse\",\n",
        "    8: \"Boat\",\n",
        "    9: \"Truck\"\n",
        "}\n",
        "\n"
      ],
      "execution_count": 0,
      "outputs": []
    },
    {
      "cell_type": "code",
      "metadata": {
        "id": "m23deaRwfqc0",
        "colab_type": "code",
        "outputId": "1b0c1968-7de5-430a-c442-5c03889d10c1",
        "colab": {
          "base_uri": "https://localhost:8080/",
          "height": 1000
        }
      },
      "source": [
        "for i in range(10):\n",
        "    # Grab an image from the data set\n",
        "    sample_image = x_train[i]\n",
        "    # Grab the image's expected class id\n",
        "    image_class_number = y_train[i][0]\n",
        "    # Look up the class name from the class id\n",
        "    image_class_name = cifar10_class_names[image_class_number]\n",
        "\n",
        "    # Draw the image as a plot\n",
        "    plt.imshow(sample_image)\n",
        "    # Label the image\n",
        "    plt.title(image_class_name)\n",
        "    # Show the plot on the screen\n",
        "    plt.show()"
      ],
      "execution_count": 0,
      "outputs": [
        {
          "output_type": "display_data",
          "data": {
            "image/png": "[encoded data removed]",
            "text/plain": [
              "<Figure size 432x288 with 1 Axes>"
            ]
          },
          "metadata": {
            "tags": []
          }
        },
        {
          "output_type": "display_data",
          "data": {
            "image/png": "[encoded data removed]",
            "text/plain": [
              "<Figure size 432x288 with 1 Axes>"
            ]
          },
          "metadata": {
            "tags": []
          }
        },
        {
          "output_type": "display_data",
          "data": {
            "image/png": "[encoded data removed]",
            "text/plain": [
              "<Figure size 432x288 with 1 Axes>"
            ]
          },
          "metadata": {
            "tags": []
          }
        },
        {
          "output_type": "display_data",
          "data": {
            "image/png": "[encoded data removed]",
            "text/plain": [
              "<Figure size 432x288 with 1 Axes>"
            ]
          },
          "metadata": {
            "tags": []
          }
        },
        {
          "output_type": "display_data",
          "data": {
            "image/png": "[encoded data removed]",
            "text/plain": [
              "<Figure size 432x288 with 1 Axes>"
            ]
          },
          "metadata": {
            "tags": []
          }
        },
        {
          "output_type": "display_data",
          "data": {
            "image/png": "[encoded data removed]",
            "text/plain": [
              "<Figure size 432x288 with 1 Axes>"
            ]
          },
          "metadata": {
            "tags": []
          }
        },
        {
          "output_type": "display_data",
          "data": {
            "image/png": "[encoded data removed]",
            "text/plain": [
              "<Figure size 432x288 with 1 Axes>"
            ]
          },
          "metadata": {
            "tags": []
          }
        },
        {
          "output_type": "display_data",
          "data": {
            "image/png": "[encoded data removed]",
            "text/plain": [
              "<Figure size 432x288 with 1 Axes>"
            ]
          },
          "metadata": {
            "tags": []
          }
        },
        {
          "output_type": "display_data",
          "data": {
            "image/png": "[encoded data removed]",
            "text/plain": [
              "<Figure size 432x288 with 1 Axes>"
            ]
          },
          "metadata": {
            "tags": []
          }
        },
        {
          "output_type": "display_data",
          "data": {
            "image/png": "[encoded data removed]",
            "text/plain": [
              "<Figure size 432x288 with 1 Axes>"
            ]
          },
          "metadata": {
            "tags": []
          }
        }
      ]
    },
    {
      "cell_type": "code",
      "metadata": {
        "id": "tyWfIF3Efwuu",
        "colab_type": "code",
        "colab": {}
      },
      "source": [
        "# Normalize data set to 0-to-1 range\n",
        "x_train = x_train.astype('float32')\n",
        "x_test = x_test.astype('float32')\n",
        "x_train /= 255\n",
        "x_test /= 255\n",
        "\n",
        "# Convert class vectors to binary class matrices\n",
        "y_train = keras.utils.to_categorical(y_train, 10)\n",
        "y_test = keras.utils.to_categorical(y_test, 10)\n"
      ],
      "execution_count": 0,
      "outputs": []
    },
    {
      "cell_type": "code",
      "metadata": {
        "id": "kGr1rtaAf1Rm",
        "colab_type": "code",
        "outputId": "6767f162-5e58-4fc1-e534-7d337488463a",
        "colab": {
          "base_uri": "https://localhost:8080/",
          "height": 255
        }
      },
      "source": [
        "# Create a model and add layers\n",
        "model = Sequential()\n",
        "\n",
        "model.add(Conv2D(32, (3, 3), padding='same', input_shape=(32, 32, 3), activation=\"relu\"))\n",
        "model.add(Conv2D(32, (3, 3), activation=\"relu\"))\n",
        "model.add(MaxPooling2D(pool_size=(2, 2)))\n",
        "model.add(Dropout(0.25))\n",
        "\n",
        "model.add(Conv2D(64, (3, 3), padding='same', activation=\"relu\"))\n",
        "model.add(Conv2D(64, (3, 3), activation=\"relu\"))\n",
        "model.add(MaxPooling2D(pool_size=(2, 2)))\n",
        "model.add(Dropout(0.25))\n",
        "\n",
        "model.add(Flatten())\n",
        "model.add(Dense(512, activation=\"relu\"))\n",
        "model.add(Dropout(0.5))\n",
        "model.add(Dense(10, activation=\"softmax\"))\n"
      ],
      "execution_count": 0,
      "outputs": [
        {
          "output_type": "stream",
          "text": [
            "WARNING:tensorflow:From /usr/local/lib/python3.6/dist-packages/keras/backend/tensorflow_backend.py:66: The name tf.get_default_graph is deprecated. Please use tf.compat.v1.get_default_graph instead.\n",
            "\n",
            "WARNING:tensorflow:From /usr/local/lib/python3.6/dist-packages/keras/backend/tensorflow_backend.py:541: The name tf.placeholder is deprecated. Please use tf.compat.v1.placeholder instead.\n",
            "\n",
            "WARNING:tensorflow:From /usr/local/lib/python3.6/dist-packages/keras/backend/tensorflow_backend.py:4432: The name tf.random_uniform is deprecated. Please use tf.random.uniform instead.\n",
            "\n",
            "WARNING:tensorflow:From /usr/local/lib/python3.6/dist-packages/keras/backend/tensorflow_backend.py:4267: The name tf.nn.max_pool is deprecated. Please use tf.nn.max_pool2d instead.\n",
            "\n",
            "WARNING:tensorflow:From /usr/local/lib/python3.6/dist-packages/keras/backend/tensorflow_backend.py:148: The name tf.placeholder_with_default is deprecated. Please use tf.compat.v1.placeholder_with_default instead.\n",
            "\n",
            "WARNING:tensorflow:From /usr/local/lib/python3.6/dist-packages/keras/backend/tensorflow_backend.py:3733: calling dropout (from tensorflow.python.ops.nn_ops) with keep_prob is deprecated and will be removed in a future version.\n",
            "Instructions for updating:\n",
            "Please use `rate` instead of `keep_prob`. Rate should be set to `rate = 1 - keep_prob`.\n"
          ],
          "name": "stdout"
        }
      ]
    },
    {
      "cell_type": "code",
      "metadata": {
        "id": "BEAoqvuqf6LB",
        "colab_type": "code",
        "outputId": "3cef9240-5f2e-48f4-9c30-95f7c2e0bdd7",
        "colab": {
          "base_uri": "https://localhost:8080/",
          "height": 642
        }
      },
      "source": [
        "# Compile the model\n",
        "model.compile(\n",
        "    loss='categorical_crossentropy',\n",
        "    optimizer='adam',\n",
        "    metrics=['accuracy']\n",
        ")\n",
        "\n",
        "# Print a summary of the model\n",
        "model.summary()"
      ],
      "execution_count": 0,
      "outputs": [
        {
          "output_type": "stream",
          "text": [
            "WARNING:tensorflow:From /usr/local/lib/python3.6/dist-packages/keras/optimizers.py:793: The name tf.train.Optimizer is deprecated. Please use tf.compat.v1.train.Optimizer instead.\n",
            "\n",
            "WARNING:tensorflow:From /usr/local/lib/python3.6/dist-packages/keras/backend/tensorflow_backend.py:3576: The name tf.log is deprecated. Please use tf.math.log instead.\n",
            "\n",
            "Model: \"sequential_1\"\n",
            "_________________________________________________________________\n",
            "Layer (type)                 Output Shape              Param #   \n",
            "=================================================================\n",
            "conv2d_1 (Conv2D)            (None, 32, 32, 32)        896       \n",
            "_________________________________________________________________\n",
            "conv2d_2 (Conv2D)            (None, 30, 30, 32)        9248      \n",
            "_________________________________________________________________\n",
            "max_pooling2d_1 (MaxPooling2 (None, 15, 15, 32)        0         \n",
            "_________________________________________________________________\n",
            "dropout_1 (Dropout)          (None, 15, 15, 32)        0         \n",
            "_________________________________________________________________\n",
            "conv2d_3 (Conv2D)            (None, 15, 15, 64)        18496     \n",
            "_________________________________________________________________\n",
            "conv2d_4 (Conv2D)            (None, 13, 13, 64)        36928     \n",
            "_________________________________________________________________\n",
            "max_pooling2d_2 (MaxPooling2 (None, 6, 6, 64)          0         \n",
            "_________________________________________________________________\n",
            "dropout_2 (Dropout)          (None, 6, 6, 64)          0         \n",
            "_________________________________________________________________\n",
            "flatten_1 (Flatten)          (None, 2304)              0         \n",
            "_________________________________________________________________\n",
            "dense_1 (Dense)              (None, 512)               1180160   \n",
            "_________________________________________________________________\n",
            "dropout_3 (Dropout)          (None, 512)               0         \n",
            "_________________________________________________________________\n",
            "dense_2 (Dense)              (None, 10)                5130      \n",
            "=================================================================\n",
            "Total params: 1,250,858\n",
            "Trainable params: 1,250,858\n",
            "Non-trainable params: 0\n",
            "_________________________________________________________________\n"
          ],
          "name": "stdout"
        }
      ]
    },
    {
      "cell_type": "code",
      "metadata": {
        "id": "h9_zo7ljgCjz",
        "colab_type": "code",
        "outputId": "bd27aaaa-be8d-4004-bb45-e393ae2f8824",
        "colab": {
          "base_uri": "https://localhost:8080/",
          "height": 1000
        }
      },
      "source": [
        "# Train the model\n",
        "model.fit(\n",
        "    x_train,\n",
        "    y_train,\n",
        "    batch_size=32,\n",
        "    epochs=30,\n",
        "    validation_data=(x_test, y_test),\n",
        "    shuffle=True\n",
        ")\n"
      ],
      "execution_count": 0,
      "outputs": [
        {
          "output_type": "stream",
          "text": [
            "WARNING:tensorflow:From /usr/local/lib/python3.6/dist-packages/tensorflow_core/python/ops/math_grad.py:1424: where (from tensorflow.python.ops.array_ops) is deprecated and will be removed in a future version.\n",
            "Instructions for updating:\n",
            "Use tf.where in 2.0, which has the same broadcast rule as np.where\n",
            "WARNING:tensorflow:From /usr/local/lib/python3.6/dist-packages/keras/backend/tensorflow_backend.py:1033: The name tf.assign_add is deprecated. Please use tf.compat.v1.assign_add instead.\n",
            "\n",
            "WARNING:tensorflow:From /usr/local/lib/python3.6/dist-packages/keras/backend/tensorflow_backend.py:1020: The name tf.assign is deprecated. Please use tf.compat.v1.assign instead.\n",
            "\n",
            "WARNING:tensorflow:From /usr/local/lib/python3.6/dist-packages/keras/backend/tensorflow_backend.py:3005: The name tf.Session is deprecated. Please use tf.compat.v1.Session instead.\n",
            "\n",
            "Train on 50000 samples, validate on 10000 samples\n",
            "Epoch 1/30\n",
            "WARNING:tensorflow:From /usr/local/lib/python3.6/dist-packages/keras/backend/tensorflow_backend.py:190: The name tf.get_default_session is deprecated. Please use tf.compat.v1.get_default_session instead.\n",
            "\n",
            "WARNING:tensorflow:From /usr/local/lib/python3.6/dist-packages/keras/backend/tensorflow_backend.py:197: The name tf.ConfigProto is deprecated. Please use tf.compat.v1.ConfigProto instead.\n",
            "\n",
            "WARNING:tensorflow:From /usr/local/lib/python3.6/dist-packages/keras/backend/tensorflow_backend.py:207: The name tf.global_variables is deprecated. Please use tf.compat.v1.global_variables instead.\n",
            "\n",
            "WARNING:tensorflow:From /usr/local/lib/python3.6/dist-packages/keras/backend/tensorflow_backend.py:216: The name tf.is_variable_initialized is deprecated. Please use tf.compat.v1.is_variable_initialized instead.\n",
            "\n",
            "WARNING:tensorflow:From /usr/local/lib/python3.6/dist-packages/keras/backend/tensorflow_backend.py:223: The name tf.variables_initializer is deprecated. Please use tf.compat.v1.variables_initializer instead.\n",
            "\n",
            "50000/50000 [==============================] - 28s 554us/step - loss: 1.4883 - acc: 0.4593 - val_loss: 1.1308 - val_acc: 0.5958\n",
            "Epoch 2/30\n",
            "50000/50000 [==============================] - 12s 248us/step - loss: 1.1046 - acc: 0.6086 - val_loss: 1.0409 - val_acc: 0.6358\n",
            "Epoch 3/30\n",
            "50000/50000 [==============================] - 12s 245us/step - loss: 0.9585 - acc: 0.6616 - val_loss: 0.8272 - val_acc: 0.7092\n",
            "Epoch 4/30\n",
            "50000/50000 [==============================] - 12s 246us/step - loss: 0.8703 - acc: 0.6925 - val_loss: 0.8027 - val_acc: 0.7212\n",
            "Epoch 5/30\n",
            "50000/50000 [==============================] - 12s 250us/step - loss: 0.8068 - acc: 0.7173 - val_loss: 0.7748 - val_acc: 0.7381\n",
            "Epoch 6/30\n",
            "50000/50000 [==============================] - 12s 244us/step - loss: 0.7652 - acc: 0.7328 - val_loss: 0.7290 - val_acc: 0.7477\n",
            "Epoch 7/30\n",
            "50000/50000 [==============================] - 12s 248us/step - loss: 0.7276 - acc: 0.7416 - val_loss: 0.7499 - val_acc: 0.7404\n",
            "Epoch 8/30\n",
            "50000/50000 [==============================] - 12s 241us/step - loss: 0.6966 - acc: 0.7533 - val_loss: 0.7225 - val_acc: 0.7516\n",
            "Epoch 9/30\n",
            "50000/50000 [==============================] - 12s 242us/step - loss: 0.6669 - acc: 0.7648 - val_loss: 0.6564 - val_acc: 0.7756\n",
            "Epoch 10/30\n",
            "50000/50000 [==============================] - 12s 248us/step - loss: 0.6422 - acc: 0.7724 - val_loss: 0.6700 - val_acc: 0.7739\n",
            "Epoch 11/30\n",
            "50000/50000 [==============================] - 12s 247us/step - loss: 0.6194 - acc: 0.7841 - val_loss: 0.6720 - val_acc: 0.7705\n",
            "Epoch 12/30\n",
            "50000/50000 [==============================] - 12s 244us/step - loss: 0.6055 - acc: 0.7859 - val_loss: 0.6442 - val_acc: 0.7779\n",
            "Epoch 13/30\n",
            "50000/50000 [==============================] - 12s 239us/step - loss: 0.5845 - acc: 0.7955 - val_loss: 0.6526 - val_acc: 0.7821\n",
            "Epoch 14/30\n",
            "50000/50000 [==============================] - 12s 245us/step - loss: 0.5703 - acc: 0.7985 - val_loss: 0.6379 - val_acc: 0.7844\n",
            "Epoch 15/30\n",
            "50000/50000 [==============================] - 12s 246us/step - loss: 0.5511 - acc: 0.8057 - val_loss: 0.6569 - val_acc: 0.7769\n",
            "Epoch 16/30\n",
            "50000/50000 [==============================] - 12s 246us/step - loss: 0.5417 - acc: 0.8088 - val_loss: 0.6443 - val_acc: 0.7862\n",
            "Epoch 17/30\n",
            "50000/50000 [==============================] - 13s 251us/step - loss: 0.5346 - acc: 0.8109 - val_loss: 0.6301 - val_acc: 0.7872\n",
            "Epoch 18/30\n",
            "50000/50000 [==============================] - 12s 242us/step - loss: 0.5267 - acc: 0.8150 - val_loss: 0.6541 - val_acc: 0.7823\n",
            "Epoch 19/30\n",
            "50000/50000 [==============================] - 12s 242us/step - loss: 0.5095 - acc: 0.8194 - val_loss: 0.6574 - val_acc: 0.7821\n",
            "Epoch 20/30\n",
            "50000/50000 [==============================] - 13s 251us/step - loss: 0.4976 - acc: 0.8236 - val_loss: 0.6500 - val_acc: 0.7854\n",
            "Epoch 21/30\n",
            "50000/50000 [==============================] - 12s 247us/step - loss: 0.4907 - acc: 0.8275 - val_loss: 0.6150 - val_acc: 0.7955\n",
            "Epoch 22/30\n",
            "50000/50000 [==============================] - 12s 245us/step - loss: 0.4881 - acc: 0.8269 - val_loss: 0.6292 - val_acc: 0.7902\n",
            "Epoch 23/30\n",
            "50000/50000 [==============================] - 12s 241us/step - loss: 0.4757 - acc: 0.8333 - val_loss: 0.6422 - val_acc: 0.7868\n",
            "Epoch 24/30\n",
            "50000/50000 [==============================] - 12s 243us/step - loss: 0.4726 - acc: 0.8322 - val_loss: 0.6379 - val_acc: 0.7900\n",
            "Epoch 25/30\n",
            "50000/50000 [==============================] - 12s 245us/step - loss: 0.4599 - acc: 0.8388 - val_loss: 0.6405 - val_acc: 0.7915\n",
            "Epoch 26/30\n",
            "50000/50000 [==============================] - 12s 242us/step - loss: 0.4610 - acc: 0.8372 - val_loss: 0.6782 - val_acc: 0.7848\n",
            "Epoch 27/30\n",
            "50000/50000 [==============================] - 12s 240us/step - loss: 0.4542 - acc: 0.8403 - val_loss: 0.6431 - val_acc: 0.7909\n",
            "Epoch 28/30\n",
            "50000/50000 [==============================] - 12s 242us/step - loss: 0.4457 - acc: 0.8428 - val_loss: 0.6420 - val_acc: 0.7929\n",
            "Epoch 29/30\n",
            "50000/50000 [==============================] - 12s 245us/step - loss: 0.4383 - acc: 0.8455 - val_loss: 0.6412 - val_acc: 0.7939\n",
            "Epoch 30/30\n",
            "50000/50000 [==============================] - 12s 244us/step - loss: 0.4303 - acc: 0.8467 - val_loss: 0.6786 - val_acc: 0.7957\n"
          ],
          "name": "stdout"
        },
        {
          "output_type": "execute_result",
          "data": {
            "text/plain": [
              "<keras.callbacks.History at 0x7f16a77e15c0>"
            ]
          },
          "metadata": {
            "tags": []
          },
          "execution_count": 17
        }
      ]
    },
    {
      "cell_type": "code",
      "metadata": {
        "id": "T35nqnJGgGy7",
        "colab_type": "code",
        "colab": {}
      },
      "source": [
        "\n",
        "# Save neural network structure\n",
        "model_structure = model.to_json()\n",
        "f = Path(\"model_structure.json\")\n",
        "f.write_text(model_structure)\n",
        "\n",
        "# Save neural network's trained weights\n",
        "model.save_weights(\"model_weights.h5\")"
      ],
      "execution_count": 0,
      "outputs": []
    },
    {
      "cell_type": "code",
      "metadata": {
        "id": "1vy586APgQ7X",
        "colab_type": "code",
        "colab": {}
      },
      "source": [
        "from keras.models import model_from_json\n",
        "from pathlib import Path\n",
        "from keras.preprocessing import image\n",
        "import numpy as np\n",
        "\n",
        "# These are the CIFAR10 class labels from the training data (in order from 0 to 9)\n",
        "class_labels = [\n",
        "    \"Plane\",\n",
        "    \"Car\",\n",
        "    \"Bird\",\n",
        "    \"Cat\",\n",
        "    \"Deer\",\n",
        "    \"Dog\",\n",
        "    \"Frog\",\n",
        "    \"Horse\",\n",
        "    \"Boat\",\n",
        "    \"Truck\"\n",
        "]\n"
      ],
      "execution_count": 0,
      "outputs": []
    },
    {
      "cell_type": "code",
      "metadata": {
        "id": "1HGS8uNHgWHl",
        "colab_type": "code",
        "colab": {}
      },
      "source": [
        "# Load the json file that contains the model's structure\n",
        "f = Path(\"model_structure.json\")\n",
        "model_structure = f.read_text()\n"
      ],
      "execution_count": 0,
      "outputs": []
    },
    {
      "cell_type": "code",
      "metadata": {
        "id": "3Ka5u03VgaSw",
        "colab_type": "code",
        "colab": {}
      },
      "source": [
        "# Recreate the Keras model object from the json data\n",
        "model = model_from_json(model_structure)\n",
        "\n",
        "# Re-load the model's trained weights\n",
        "model.load_weights(\"model_weights.h5\")\n"
      ],
      "execution_count": 0,
      "outputs": []
    },
    {
      "cell_type": "code",
      "metadata": {
        "id": "PxhRwfNzgfMi",
        "colab_type": "code",
        "colab": {}
      },
      "source": [
        "# Load an image file to test, resizing it to 32x32 pixels (as required by this model)\n",
        "img = image.load_img(\"car1.png\", target_size=(32, 32))\n",
        "\n",
        "# Convert the image to a numpy array\n",
        "image_to_test = image.img_to_array(img)\n",
        "\n",
        "# Add a fourth dimension to the image (since Keras expects a list of images, not a single image)\n",
        "list_of_images = np.expand_dims(image_to_test, axis=0)\n",
        "\n",
        "# Make a prediction using the model\n",
        "results = model.predict(list_of_images)\n",
        "\n",
        "# Since we are only testing one image, we only need to check the first result\n",
        "single_result = results[0]\n",
        "\n",
        "# We will get a likelihood score for all 10 possible classes. Find out which class had the highest score.\n",
        "most_likely_class_index = int(np.argmax(single_result))\n",
        "class_likelihood = single_result[most_likely_class_index]"
      ],
      "execution_count": 0,
      "outputs": []
    },
    {
      "cell_type": "code",
      "metadata": {
        "id": "83EEADHMgixE",
        "colab_type": "code",
        "outputId": "7684c2cd-6dfb-4410-e66f-8a6e559001cb",
        "colab": {
          "base_uri": "https://localhost:8080/",
          "height": 34
        }
      },
      "source": [
        "# Get the name of the most likely class\n",
        "class_label = class_labels[most_likely_class_index]\n",
        "\n",
        "# Print the result\n",
        "print(\"This is image is a {} - Likelihood: {:2f}\".format(class_label, class_likelihood))"
      ],
      "execution_count": 0,
      "outputs": [
        {
          "output_type": "stream",
          "text": [
            "This is image is a Car - Likelihood: 1.000000\n"
          ],
          "name": "stdout"
        }
      ]
    }
  ]
}