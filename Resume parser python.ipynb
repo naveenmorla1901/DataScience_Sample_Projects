{
 "cells": [
  {
   "cell_type": "code",
   "execution_count": null,
   "metadata": {},
   "outputs": [],
   "source": [
    "from pyresparser import ResumeParser\n",
    "import shutil, os"
   ]
  },
  {
   "cell_type": "code",
   "execution_count": null,
   "metadata": {},
   "outputs": [],
   "source": [
    "read,nread=0,0\n",
    "for root,dirs,files in os.walk(r'C:\\Users\\morla\\datascience\\resume sample'):##TO READ RESUME FOLDERS\n",
    "    for file in files:\n",
    "        filename,extension=os.path.splitext(file)\n",
    "        if extension== \".pdf\" or extension== \".docx\" or extension==\".txt\":\n",
    "            data1=ResumeParser(file).get_extracted_data()\n",
    "            print(data1,file=open(filename+\".txt\", \"a\"))\n",
    "            shutil.move(filename+\".txt\",r'C:\\Users\\morla\\OneDrive\\Desktop\\New')##SEND TXT FILES TO USER DEFINED FOLDERS\n",
    "            read+=1\n",
    "        else:\n",
    "            nread+=1\n",
    "            \n",
    "print(\"readable formats: \",read)\n",
    "print(\"other formats: \",nread)"
   ]
  }
 ],
 "metadata": {
  "kernelspec": {
   "display_name": "Python 3",
   "language": "python",
   "name": "python3"
  },
  "language_info": {
   "codemirror_mode": {
    "name": "ipython",
    "version": 3
   },
   "file_extension": ".py",
   "mimetype": "text/x-python",
   "name": "python",
   "nbconvert_exporter": "python",
   "pygments_lexer": "ipython3",
   "version": "3.7.3"
  }
 },
 "nbformat": 4,
 "nbformat_minor": 2
}
